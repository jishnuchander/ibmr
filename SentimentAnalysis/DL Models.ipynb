{
 "cells": [
  {
   "cell_type": "code",
   "execution_count": 1,
   "metadata": {},
   "outputs": [
    {
     "name": "stderr",
     "output_type": "stream",
     "text": [
      "Using TensorFlow backend.\n"
     ]
    }
   ],
   "source": [
    "import itertools\n",
    "import os\n",
    "\n",
    "%matplotlib inline\n",
    "import matplotlib.pyplot as plt\n",
    "import numpy as np\n",
    "import pandas as pd\n",
    "import tensorflow as tf\n",
    "\n",
    "from sklearn.preprocessing import LabelBinarizer, LabelEncoder\n",
    "from sklearn.metrics import confusion_matrix\n",
    "from sklearn.feature_extraction.text import CountVectorizer, TfidfTransformer\n",
    "\n",
    "from tensorflow import keras\n",
    "from keras.models import Sequential\n",
    "from keras.layers import Dense, Activation, Dropout, Flatten\n",
    "from keras.layers.embeddings import Embedding\n",
    "from keras.preprocessing import text, sequence\n",
    "from keras import utils\n",
    "from keras.regularizers import l1, l2\n",
    "from keras.callbacks import EarlyStopping"
   ]
  },
  {
   "cell_type": "code",
   "execution_count": 2,
   "metadata": {
    "scrolled": false
   },
   "outputs": [
    {
     "data": {
      "text/html": [
       "<div>\n",
       "<style scoped>\n",
       "    .dataframe tbody tr th:only-of-type {\n",
       "        vertical-align: middle;\n",
       "    }\n",
       "\n",
       "    .dataframe tbody tr th {\n",
       "        vertical-align: top;\n",
       "    }\n",
       "\n",
       "    .dataframe thead th {\n",
       "        text-align: right;\n",
       "    }\n",
       "</style>\n",
       "<table border=\"1\" class=\"dataframe\">\n",
       "  <thead>\n",
       "    <tr style=\"text-align: right;\">\n",
       "      <th></th>\n",
       "      <th>lyrics_clean</th>\n",
       "      <th>tag</th>\n",
       "    </tr>\n",
       "  </thead>\n",
       "  <tbody>\n",
       "    <tr>\n",
       "      <td>0</td>\n",
       "      <td>walking waters edgewhere i beforeif i find lov...</td>\n",
       "      <td>relax</td>\n",
       "    </tr>\n",
       "    <tr>\n",
       "      <td>1</td>\n",
       "      <td>first let say look tired rest head shut eyes e...</td>\n",
       "      <td>energetic</td>\n",
       "    </tr>\n",
       "    <tr>\n",
       "      <td>2</td>\n",
       "      <td>i know since i talked youbut maybe one makes w...</td>\n",
       "      <td>relax</td>\n",
       "    </tr>\n",
       "    <tr>\n",
       "      <td>3</td>\n",
       "      <td>can i hold one last time to fight feeling grow...</td>\n",
       "      <td>sad</td>\n",
       "    </tr>\n",
       "    <tr>\n",
       "      <td>4</td>\n",
       "      <td>when say dead amp gone yes i know wrong cut am...</td>\n",
       "      <td>sad</td>\n",
       "    </tr>\n",
       "  </tbody>\n",
       "</table>\n",
       "</div>"
      ],
      "text/plain": [
       "                                        lyrics_clean        tag\n",
       "0  walking waters edgewhere i beforeif i find lov...      relax\n",
       "1  first let say look tired rest head shut eyes e...  energetic\n",
       "2  i know since i talked youbut maybe one makes w...      relax\n",
       "3  can i hold one last time to fight feeling grow...        sad\n",
       "4  when say dead amp gone yes i know wrong cut am...        sad"
      ]
     },
     "execution_count": 2,
     "metadata": {},
     "output_type": "execute_result"
    }
   ],
   "source": [
    "df1 = pd.read_csv(\"Clean lyrics.csv\")\n",
    "df1.head()"
   ]
  },
  {
   "cell_type": "code",
   "execution_count": 3,
   "metadata": {},
   "outputs": [
    {
     "data": {
      "text/plain": [
       "17362"
      ]
     },
     "execution_count": 3,
     "metadata": {},
     "output_type": "execute_result"
    }
   ],
   "source": [
    "df = df1[df1['lyrics_clean'].notna()]\n",
    "len(df)"
   ]
  },
  {
   "cell_type": "code",
   "execution_count": 4,
   "metadata": {},
   "outputs": [],
   "source": [
    "df = df.sample(frac=1).reset_index(drop=True)"
   ]
  },
  {
   "cell_type": "code",
   "execution_count": 5,
   "metadata": {},
   "outputs": [
    {
     "data": {
      "text/plain": [
       "lyrics_clean    0\n",
       "tag             0\n",
       "dtype: int64"
      ]
     },
     "execution_count": 5,
     "metadata": {},
     "output_type": "execute_result"
    }
   ],
   "source": [
    "df.isna().sum()"
   ]
  },
  {
   "cell_type": "code",
   "execution_count": 6,
   "metadata": {
    "scrolled": false
   },
   "outputs": [
    {
     "data": {
      "text/plain": [
       "love         5458\n",
       "party        1630\n",
       "sad          1304\n",
       "emotional    1274\n",
       "happy        1123\n",
       "grunge       1034\n",
       "memory        904\n",
       "religious     892\n",
       "dark          765\n",
       "relax         531\n",
       "political     511\n",
       "energetic     506\n",
       "christmas     474\n",
       "funny         468\n",
       "freedom       286\n",
       "halloween     121\n",
       "rain           81\n",
       "Name: tag, dtype: int64"
      ]
     },
     "execution_count": 6,
     "metadata": {},
     "output_type": "execute_result"
    }
   ],
   "source": [
    "df['tag'].value_counts()"
   ]
  },
  {
   "cell_type": "code",
   "execution_count": 7,
   "metadata": {},
   "outputs": [],
   "source": [
    "df_love = df[df['tag'] == 'love']\n",
    "df_party = df[df['tag'] == 'party']\n",
    "df_energetic = df[df['tag'] == 'energetic']\n",
    "df_sad = df[df['tag'] == 'sad']\n",
    "df_emotional = df[df['tag'] == 'emotional']\n",
    "df_relax = df[df['tag'] == 'relax']\n",
    "df_memory = df[df['tag'] == 'memory']\n",
    "df_grunge = df[df['tag'] == 'grunge']\n",
    "df_happy = df[df['tag'] == 'happy']"
   ]
  },
  {
   "cell_type": "code",
   "execution_count": 8,
   "metadata": {},
   "outputs": [
    {
     "name": "stdout",
     "output_type": "stream",
     "text": [
      "5458 2729 2729\n"
     ]
    }
   ],
   "source": [
    "df_love1, df_love2 = np.array_split(df_love, 2)\n",
    "print(len(df_love), len(df_love1), len(df_love2))"
   ]
  },
  {
   "cell_type": "code",
   "execution_count": 9,
   "metadata": {},
   "outputs": [],
   "source": [
    "df_energy = pd.concat([df_party, df_energetic])\n",
    "df_energy['tag'] = 'energy'\n",
    "df_emotion = pd.concat([df_sad, df_emotional])\n",
    "df_emotion['tag'] = 'emotion'\n",
    "df_relaxing = pd.concat([df_relax, df_memory])\n",
    "df_relaxing['tag'] = 'relaxing'\n",
    "# df_joy = pd.concat([df_grunge, df_happy])\n",
    "# df_joy['tag'] = 'joy'"
   ]
  },
  {
   "cell_type": "code",
   "execution_count": 11,
   "metadata": {},
   "outputs": [
    {
     "data": {
      "text/html": [
       "<div>\n",
       "<style scoped>\n",
       "    .dataframe tbody tr th:only-of-type {\n",
       "        vertical-align: middle;\n",
       "    }\n",
       "\n",
       "    .dataframe tbody tr th {\n",
       "        vertical-align: top;\n",
       "    }\n",
       "\n",
       "    .dataframe thead th {\n",
       "        text-align: right;\n",
       "    }\n",
       "</style>\n",
       "<table border=\"1\" class=\"dataframe\">\n",
       "  <thead>\n",
       "    <tr style=\"text-align: right;\">\n",
       "      <th></th>\n",
       "      <th>lyrics_clean</th>\n",
       "      <th>tag</th>\n",
       "    </tr>\n",
       "  </thead>\n",
       "  <tbody>\n",
       "    <tr>\n",
       "      <td>0</td>\n",
       "      <td>sat write letter promised id write today sudde...</td>\n",
       "      <td>love</td>\n",
       "    </tr>\n",
       "    <tr>\n",
       "      <td>4</td>\n",
       "      <td>on hills fire darkest houri dreaming true love...</td>\n",
       "      <td>love</td>\n",
       "    </tr>\n",
       "    <tr>\n",
       "      <td>6</td>\n",
       "      <td>good lovin keeps home together good lovin sure...</td>\n",
       "      <td>love</td>\n",
       "    </tr>\n",
       "    <tr>\n",
       "      <td>10</td>\n",
       "      <td>once i walked lonely road had one share love b...</td>\n",
       "      <td>love</td>\n",
       "    </tr>\n",
       "    <tr>\n",
       "      <td>14</td>\n",
       "      <td>honey honey honey open door this sweet daddy l...</td>\n",
       "      <td>love</td>\n",
       "    </tr>\n",
       "    <tr>\n",
       "      <td>...</td>\n",
       "      <td>...</td>\n",
       "      <td>...</td>\n",
       "    </tr>\n",
       "    <tr>\n",
       "      <td>17329</td>\n",
       "      <td>didnt say i would make mistake didnt say gonna...</td>\n",
       "      <td>happy</td>\n",
       "    </tr>\n",
       "    <tr>\n",
       "      <td>17337</td>\n",
       "      <td>i gotta go gotta go gotta go i something stupi...</td>\n",
       "      <td>happy</td>\n",
       "    </tr>\n",
       "    <tr>\n",
       "      <td>17339</td>\n",
       "      <td>true ring true ring gonna make crystal sing ot...</td>\n",
       "      <td>happy</td>\n",
       "    </tr>\n",
       "    <tr>\n",
       "      <td>17356</td>\n",
       "      <td>if i silent i real if i speak noone hear if i ...</td>\n",
       "      <td>happy</td>\n",
       "    </tr>\n",
       "    <tr>\n",
       "      <td>17360</td>\n",
       "      <td>picking sound interstate i breath letting wave...</td>\n",
       "      <td>happy</td>\n",
       "    </tr>\n",
       "  </tbody>\n",
       "</table>\n",
       "<p>10001 rows × 2 columns</p>\n",
       "</div>"
      ],
      "text/plain": [
       "                                            lyrics_clean    tag\n",
       "0      sat write letter promised id write today sudde...   love\n",
       "4      on hills fire darkest houri dreaming true love...   love\n",
       "6      good lovin keeps home together good lovin sure...   love\n",
       "10     once i walked lonely road had one share love b...   love\n",
       "14     honey honey honey open door this sweet daddy l...   love\n",
       "...                                                  ...    ...\n",
       "17329  didnt say i would make mistake didnt say gonna...  happy\n",
       "17337  i gotta go gotta go gotta go i something stupi...  happy\n",
       "17339  true ring true ring gonna make crystal sing ot...  happy\n",
       "17356  if i silent i real if i speak noone hear if i ...  happy\n",
       "17360  picking sound interstate i breath letting wave...  happy\n",
       "\n",
       "[10001 rows x 2 columns]"
      ]
     },
     "execution_count": 11,
     "metadata": {},
     "output_type": "execute_result"
    }
   ],
   "source": [
    "df = pd.concat([df_love1, df_energy, df_emotion, df_relaxing, df_happy])\n",
    "df"
   ]
  },
  {
   "cell_type": "code",
   "execution_count": 12,
   "metadata": {},
   "outputs": [],
   "source": [
    "df = df.sample(frac=1).reset_index(drop=True)"
   ]
  },
  {
   "cell_type": "code",
   "execution_count": 13,
   "metadata": {},
   "outputs": [
    {
     "name": "stdout",
     "output_type": "stream",
     "text": [
      "10001\n"
     ]
    },
    {
     "data": {
      "text/plain": [
       "love        2729\n",
       "emotion     2578\n",
       "energy      2136\n",
       "relaxing    1435\n",
       "happy       1123\n",
       "Name: tag, dtype: int64"
      ]
     },
     "execution_count": 13,
     "metadata": {},
     "output_type": "execute_result"
    }
   ],
   "source": [
    "print(len(df))\n",
    "df['tag'].value_counts()"
   ]
  },
  {
   "cell_type": "code",
   "execution_count": 264,
   "metadata": {},
   "outputs": [],
   "source": [
    "# unwanted_classes = ['rain', 'halloween', 'christmas', 'political', 'love', 'freedom', 'funny']"
   ]
  },
  {
   "cell_type": "code",
   "execution_count": 265,
   "metadata": {},
   "outputs": [],
   "source": [
    "# df_impclass = df[~df['tag'].isin(unwanted_classes)]"
   ]
  },
  {
   "cell_type": "code",
   "execution_count": 266,
   "metadata": {
    "scrolled": true
   },
   "outputs": [],
   "source": [
    "# df3, df4 = np.array_split(df2, 2)"
   ]
  },
  {
   "cell_type": "code",
   "execution_count": 269,
   "metadata": {},
   "outputs": [],
   "source": [
    "# df.to_csv(\"Clean_Lyrics(short).csv\", index=False)"
   ]
  },
  {
   "cell_type": "code",
   "execution_count": 14,
   "metadata": {},
   "outputs": [],
   "source": [
    "lyrics = df['lyrics_clean'].values.tolist()\n",
    "sentences = [line.split() for line in lyrics]"
   ]
  },
  {
   "cell_type": "code",
   "execution_count": null,
   "metadata": {},
   "outputs": [],
   "source": [
    "# Calculating Tf-Idf weights\n",
    "\n",
    "from sklearn.feature_extraction.text import TfidfVectorizer\n",
    "\n",
    "vectorizer = TfidfVectorizer(stop_words=None)\n",
    "tfidf = vectorizer.fit_transform(lyrics)"
   ]
  },
  {
   "cell_type": "code",
   "execution_count": null,
   "metadata": {},
   "outputs": [],
   "source": [
    "feature_names = vectorizer.get_feature_names()\n",
    "idf = vectorizer.idf_\n",
    "tfidf_word = dict(zip(feature_names, idf))"
   ]
  },
  {
   "cell_type": "code",
   "execution_count": null,
   "metadata": {},
   "outputs": [],
   "source": [
    "tfidf_word"
   ]
  },
  {
   "cell_type": "code",
   "execution_count": 12,
   "metadata": {},
   "outputs": [],
   "source": [
    "# Pre trained word embeddings\n",
    "\n",
    "import gensim\n",
    "\n",
    "wv = gensim.models.KeyedVectors.load_word2vec_format(\"GoogleNews-vectors-negative300.bin.gz\", binary=True, limit=100000)\n",
    "wv.init_sims(replace=True)"
   ]
  },
  {
   "cell_type": "code",
   "execution_count": 15,
   "metadata": {},
   "outputs": [],
   "source": [
    "# Word2Vec embeddings \n",
    "\n",
    "import gensim\n",
    "from gensim.models import Word2Vec\n",
    "from gensim.models import FastText\n",
    "\n",
    "# w2v_model = gensim.models.Word2Vec(sentences, min_count=5, size=100, window=7)\n",
    "\n",
    "ft_model = FastText(sentences, size=50, window=3, min_count=7, sg=1)"
   ]
  },
  {
   "cell_type": "code",
   "execution_count": 16,
   "metadata": {},
   "outputs": [],
   "source": [
    "ft_model.save('fasttext.model')"
   ]
  },
  {
   "cell_type": "code",
   "execution_count": 97,
   "metadata": {},
   "outputs": [
    {
     "name": "stderr",
     "output_type": "stream",
     "text": [
      "/usr/lib/python3/dist-packages/ipykernel_launcher.py:1: DeprecationWarning: Call to deprecated `most_similar` (Method will be removed in 4.0.0, use self.wv.most_similar() instead).\n",
      "  \"\"\"Entry point for launching an IPython kernel.\n"
     ]
    },
    {
     "data": {
      "text/plain": [
       "[('lovelove', 0.9075329303741455),\n",
       " ('melove', 0.8517060875892639),\n",
       " ('lovemy', 0.8360820412635803),\n",
       " ('lovegive', 0.8258058428764343),\n",
       " ('lovewe', 0.8194286823272705),\n",
       " ('itlove', 0.8068496584892273),\n",
       " ('lovean', 0.8004063367843628),\n",
       " ('lovewith', 0.7995089292526245),\n",
       " ('loveive', 0.7955935597419739),\n",
       " ('loveoh', 0.7880630493164062)]"
      ]
     },
     "execution_count": 97,
     "metadata": {},
     "output_type": "execute_result"
    }
   ],
   "source": [
    "ft_model.most_similar('love')"
   ]
  },
  {
   "cell_type": "code",
   "execution_count": 274,
   "metadata": {},
   "outputs": [
    {
     "data": {
      "text/plain": [
       "[('treasure', 0.7866388559341431),\n",
       " ('beneath', 0.7559338212013245),\n",
       " ('cries', 0.7453146576881409),\n",
       " ('deepest', 0.73686683177948),\n",
       " ('rising', 0.732972264289856)]"
      ]
     },
     "execution_count": 274,
     "metadata": {},
     "output_type": "execute_result"
    }
   ],
   "source": [
    "w2v_model.wv.most_similar('beauty')[:5]"
   ]
  },
  {
   "cell_type": "code",
   "execution_count": 107,
   "metadata": {
    "scrolled": true
   },
   "outputs": [
    {
     "data": {
      "text/plain": [
       "[('Beauty', 0.5802157521247864),\n",
       " ('beauties', 0.5709114670753479),\n",
       " ('beautiful', 0.5641546845436096),\n",
       " ('magnificence', 0.5614525675773621),\n",
       " ('splendor', 0.5473644137382507),\n",
       " ('elegance', 0.5227882862091064),\n",
       " ('gorgeous', 0.5182787775993347),\n",
       " ('skincare', 0.5133838653564453),\n",
       " ('serenity', 0.511922299861908),\n",
       " ('glamor', 0.5101828575134277)]"
      ]
     },
     "execution_count": 107,
     "metadata": {},
     "output_type": "execute_result"
    }
   ],
   "source": [
    "wv.most_similar('beauty')"
   ]
  },
  {
   "cell_type": "code",
   "execution_count": 108,
   "metadata": {},
   "outputs": [],
   "source": [
    "def sentence_vectorizer1(sentence):\n",
    "    words = sentence.split()\n",
    "    mean = np.mean([wv[word] for word in words if word in wv.vocab] or [np.zeros(300,)], axis=0)\n",
    "    return mean"
   ]
  },
  {
   "cell_type": "code",
   "execution_count": 18,
   "metadata": {},
   "outputs": [],
   "source": [
    "# Create sentence vector\n",
    "\n",
    "def sentence_vectorizer2(sentence):\n",
    "    words = sentence.split()\n",
    "    mean = np.mean([ft_model[word] for word in words if word in ft_model.wv.vocab] or [np.zeros(50,)], axis=0)\n",
    "    return mean"
   ]
  },
  {
   "cell_type": "code",
   "execution_count": 19,
   "metadata": {
    "scrolled": true
   },
   "outputs": [
    {
     "name": "stderr",
     "output_type": "stream",
     "text": [
      "/usr/lib/python3/dist-packages/ipykernel_launcher.py:5: DeprecationWarning: Call to deprecated `__getitem__` (Method will be removed in 4.0.0, use self.wv.__getitem__() instead).\n",
      "  \"\"\"\n"
     ]
    }
   ],
   "source": [
    "X = df.lyrics_clean\n",
    "train_data = [sentence_vectorizer2(sentence) for sentence in X] "
   ]
  },
  {
   "cell_type": "code",
   "execution_count": 20,
   "metadata": {},
   "outputs": [],
   "source": [
    "y = df.tag"
   ]
  },
  {
   "cell_type": "code",
   "execution_count": 28,
   "metadata": {},
   "outputs": [
    {
     "name": "stdout",
     "output_type": "stream",
     "text": [
      "Train size: 9500\n",
      "Test size: 501\n"
     ]
    }
   ],
   "source": [
    "train_size = int(len(df) * .95)\n",
    "print (\"Train size: %d\" % train_size)\n",
    "print (\"Test size: %d\" % (len(df) - train_size))"
   ]
  },
  {
   "cell_type": "code",
   "execution_count": 29,
   "metadata": {},
   "outputs": [],
   "source": [
    "x_train = train_data[:train_size]\n",
    "train_tags = y[:train_size]\n",
    "\n",
    "x_test = train_data[train_size:]\n",
    "test_tags = y[train_size:]"
   ]
  },
  {
   "cell_type": "code",
   "execution_count": 30,
   "metadata": {
    "scrolled": true
   },
   "outputs": [],
   "source": [
    "encoder = LabelEncoder()\n",
    "encoder.fit(train_tags)\n",
    "y_train = encoder.transform(train_tags)\n",
    "y_test = encoder.transform(test_tags)"
   ]
  },
  {
   "cell_type": "code",
   "execution_count": 31,
   "metadata": {},
   "outputs": [
    {
     "name": "stdout",
     "output_type": "stream",
     "text": [
      "{'emotion': 0, 'energy': 1, 'happy': 2, 'love': 3, 'relaxing': 4}\n"
     ]
    }
   ],
   "source": [
    "mapping = dict(zip(encoder.classes_, range(len(encoder.classes_))))\n",
    "print(mapping)"
   ]
  },
  {
   "cell_type": "code",
   "execution_count": 32,
   "metadata": {},
   "outputs": [
    {
     "data": {
      "text/plain": [
       "(9500, 50)"
      ]
     },
     "execution_count": 32,
     "metadata": {},
     "output_type": "execute_result"
    }
   ],
   "source": [
    "x_train = np.matrix(x_train)\n",
    "x_test = np.matrix(x_test)\n",
    "x_train.shape"
   ]
  },
  {
   "cell_type": "code",
   "execution_count": 33,
   "metadata": {},
   "outputs": [],
   "source": [
    "num_classes = np.max(y_train) + 1\n",
    "y_train = utils.to_categorical(y_train, num_classes)\n",
    "y_test = utils.to_categorical(y_test, num_classes)"
   ]
  },
  {
   "cell_type": "code",
   "execution_count": 34,
   "metadata": {},
   "outputs": [
    {
     "name": "stdout",
     "output_type": "stream",
     "text": [
      "x_train shape: (9500, 50)\n",
      "x_test shape: (501, 50)\n",
      "y_train shape: (9500, 5)\n",
      "y_test shape: (501, 5)\n",
      "number of classes: 5\n"
     ]
    }
   ],
   "source": [
    "print('x_train shape:', x_train.shape)\n",
    "print('x_test shape:', x_test.shape)\n",
    "print('y_train shape:', y_train.shape)\n",
    "print('y_test shape:', y_test.shape)\n",
    "print('number of classes:', num_classes)"
   ]
  },
  {
   "cell_type": "code",
   "execution_count": 94,
   "metadata": {},
   "outputs": [
    {
     "name": "stdout",
     "output_type": "stream",
     "text": [
      "(9931, 50) (9931, 5) (11102, 50) (11102, 5)\n"
     ]
    }
   ],
   "source": [
    "# SMOTE Oversampling\n",
    "\n",
    "from imblearn.over_sampling import SMOTE\n",
    "\n",
    "smote = SMOTE('minority')\n",
    "x_sm, y_sm = smote.fit_sample(x_train, y_train)\n",
    "print(x_train.shape, y_train.shape, x_sm.shape, y_sm.shape)"
   ]
  },
  {
   "cell_type": "code",
   "execution_count": 95,
   "metadata": {},
   "outputs": [
    {
     "name": "stdout",
     "output_type": "stream",
     "text": [
      "[2445 2445 1957 1937 2318]\n"
     ]
    }
   ],
   "source": [
    "unique, counts = np.unique(y_sm, return_counts=True, axis=0)\n",
    "print(counts)"
   ]
  },
  {
   "cell_type": "code",
   "execution_count": 303,
   "metadata": {},
   "outputs": [
    {
     "name": "stdout",
     "output_type": "stream",
     "text": [
      "{0: 1.4983766233766234, 1: 0.9013671875, 2: 2.3132832080200503, 3: 1.0975029726516052, 4: 1.0109529025191675, 5: 0.42751273737841594, 6: 1.2837273991655076, 7: 0.70727969348659, 8: 2.1666666666666665, 9: 1.3148148148148149, 10: 0.8798856053384175}\n"
     ]
    }
   ],
   "source": [
    "# Using class weights\n",
    "\n",
    "from sklearn.utils import class_weight\n",
    "\n",
    "y_integers = np.argmax(y_train, axis=1)\n",
    "class_weights = class_weight.compute_class_weight('balanced', np.unique(y_integers), y_integers)\n",
    "weights = dict(enumerate(class_weights))\n",
    "\n",
    "print(weights)"
   ]
  },
  {
   "cell_type": "code",
   "execution_count": 38,
   "metadata": {},
   "outputs": [],
   "source": [
    "batch_size = 16\n",
    "epochs = 10"
   ]
  },
  {
   "cell_type": "code",
   "execution_count": 36,
   "metadata": {
    "scrolled": false
   },
   "outputs": [
    {
     "name": "stdout",
     "output_type": "stream",
     "text": [
      "Model: \"sequential_2\"\n",
      "_________________________________________________________________\n",
      "Layer (type)                 Output Shape              Param #   \n",
      "=================================================================\n",
      "dense_4 (Dense)              (None, 64)                3264      \n",
      "_________________________________________________________________\n",
      "dropout_3 (Dropout)          (None, 64)                0         \n",
      "_________________________________________________________________\n",
      "dense_5 (Dense)              (None, 64)                4160      \n",
      "_________________________________________________________________\n",
      "dropout_4 (Dropout)          (None, 64)                0         \n",
      "_________________________________________________________________\n",
      "dense_6 (Dense)              (None, 5)                 325       \n",
      "=================================================================\n",
      "Total params: 7,749\n",
      "Trainable params: 7,749\n",
      "Non-trainable params: 0\n",
      "_________________________________________________________________\n"
     ]
    }
   ],
   "source": [
    "# Build the model\n",
    "\n",
    "model = Sequential()\n",
    "model.add(Dense(64, input_shape=(50,), activation='relu'))\n",
    "model.add(Dropout(0.1))\n",
    "model.add(Dense(64, activation='relu'))\n",
    "model.add(Dropout(0.1))\n",
    "model.add(Dense((num_classes), activation='softmax'))\n",
    "\n",
    "model.compile(loss='categorical_crossentropy', optimizer='adam', metrics=['accuracy'])\n",
    "model.summary()"
   ]
  },
  {
   "cell_type": "code",
   "execution_count": 39,
   "metadata": {
    "scrolled": true
   },
   "outputs": [
    {
     "name": "stdout",
     "output_type": "stream",
     "text": [
      "WARNING:tensorflow:From /home/jishnu/.local/lib/python3.7/site-packages/tensorflow/python/ops/math_grad.py:1250: add_dispatch_support.<locals>.wrapper (from tensorflow.python.ops.array_ops) is deprecated and will be removed in a future version.\n",
      "Instructions for updating:\n",
      "Use tf.where in 2.0, which has the same broadcast rule as np.where\n",
      "Train on 7600 samples, validate on 1900 samples\n",
      "Epoch 1/100\n",
      "7600/7600 [==============================] - 3s 372us/step - loss: 1.5142 - acc: 0.3383 - val_loss: 1.4660 - val_acc: 0.3574\n",
      "Epoch 2/100\n",
      "7600/7600 [==============================] - 1s 95us/step - loss: 1.4590 - acc: 0.3884 - val_loss: 1.4301 - val_acc: 0.4189\n",
      "Epoch 3/100\n",
      "7600/7600 [==============================] - 1s 100us/step - loss: 1.4477 - acc: 0.3899 - val_loss: 1.4185 - val_acc: 0.4137\n",
      "Epoch 4/100\n",
      "7600/7600 [==============================] - 1s 98us/step - loss: 1.4393 - acc: 0.4009 - val_loss: 1.4154 - val_acc: 0.4216\n",
      "Epoch 5/100\n",
      "7600/7600 [==============================] - 1s 112us/step - loss: 1.4289 - acc: 0.4062 - val_loss: 1.4101 - val_acc: 0.4195\n",
      "Epoch 6/100\n",
      "7600/7600 [==============================] - 1s 107us/step - loss: 1.4218 - acc: 0.4100 - val_loss: 1.4140 - val_acc: 0.4184\n",
      "Epoch 7/100\n",
      "7600/7600 [==============================] - 1s 129us/step - loss: 1.4136 - acc: 0.4103 - val_loss: 1.4152 - val_acc: 0.4211\n",
      "Epoch 8/100\n",
      "7600/7600 [==============================] - 1s 116us/step - loss: 1.4121 - acc: 0.4084 - val_loss: 1.4058 - val_acc: 0.4242\n",
      "Epoch 9/100\n",
      "7600/7600 [==============================] - 1s 102us/step - loss: 1.4056 - acc: 0.4122 - val_loss: 1.4016 - val_acc: 0.4200\n",
      "Epoch 10/100\n",
      "7600/7600 [==============================] - 1s 102us/step - loss: 1.3980 - acc: 0.4259 - val_loss: 1.4021 - val_acc: 0.4189\n",
      "Epoch 11/100\n",
      "7600/7600 [==============================] - 1s 106us/step - loss: 1.3922 - acc: 0.4236 - val_loss: 1.3998 - val_acc: 0.4300\n",
      "Epoch 12/100\n",
      "7600/7600 [==============================] - 1s 115us/step - loss: 1.3875 - acc: 0.4318 - val_loss: 1.4084 - val_acc: 0.4279\n",
      "Epoch 13/100\n",
      "7600/7600 [==============================] - 1s 123us/step - loss: 1.3793 - acc: 0.4296 - val_loss: 1.3939 - val_acc: 0.4300\n",
      "Epoch 14/100\n",
      "7600/7600 [==============================] - 1s 114us/step - loss: 1.3766 - acc: 0.4295 - val_loss: 1.3955 - val_acc: 0.4316\n",
      "Epoch 15/100\n",
      "7600/7600 [==============================] - 1s 106us/step - loss: 1.3680 - acc: 0.4336 - val_loss: 1.4039 - val_acc: 0.4205\n",
      "Epoch 16/100\n",
      "7600/7600 [==============================] - 1s 112us/step - loss: 1.3643 - acc: 0.4362 - val_loss: 1.3962 - val_acc: 0.4284\n",
      "Epoch 17/100\n",
      "7600/7600 [==============================] - 1s 128us/step - loss: 1.3603 - acc: 0.4399 - val_loss: 1.4017 - val_acc: 0.4358\n",
      "Epoch 18/100\n",
      "7600/7600 [==============================] - 1s 108us/step - loss: 1.3540 - acc: 0.4464 - val_loss: 1.3924 - val_acc: 0.4295\n",
      "Epoch 19/100\n",
      "7600/7600 [==============================] - 1s 108us/step - loss: 1.3509 - acc: 0.4472 - val_loss: 1.3890 - val_acc: 0.4342\n",
      "Epoch 20/100\n",
      "7600/7600 [==============================] - 1s 108us/step - loss: 1.3498 - acc: 0.4451 - val_loss: 1.3963 - val_acc: 0.4337\n",
      "Epoch 21/100\n",
      "7600/7600 [==============================] - 1s 104us/step - loss: 1.3434 - acc: 0.4468 - val_loss: 1.4010 - val_acc: 0.4268\n",
      "Epoch 22/100\n",
      "7600/7600 [==============================] - 1s 117us/step - loss: 1.3353 - acc: 0.4521 - val_loss: 1.3941 - val_acc: 0.4411\n",
      "Epoch 23/100\n",
      "7600/7600 [==============================] - 1s 134us/step - loss: 1.3346 - acc: 0.4555 - val_loss: 1.3980 - val_acc: 0.4258\n",
      "Epoch 24/100\n",
      "7600/7600 [==============================] - 1s 113us/step - loss: 1.3292 - acc: 0.4575 - val_loss: 1.3959 - val_acc: 0.4316\n",
      "Epoch 25/100\n",
      "7600/7600 [==============================] - 1s 107us/step - loss: 1.3303 - acc: 0.4521 - val_loss: 1.4067 - val_acc: 0.4332\n",
      "Epoch 26/100\n",
      "7600/7600 [==============================] - 1s 109us/step - loss: 1.3224 - acc: 0.4570 - val_loss: 1.3931 - val_acc: 0.4305\n",
      "Epoch 27/100\n",
      "7600/7600 [==============================] - 1s 107us/step - loss: 1.3187 - acc: 0.4622 - val_loss: 1.3875 - val_acc: 0.4389\n",
      "Epoch 28/100\n",
      "7600/7600 [==============================] - 1s 107us/step - loss: 1.3123 - acc: 0.4614 - val_loss: 1.3904 - val_acc: 0.4358\n",
      "Epoch 29/100\n",
      "7600/7600 [==============================] - 1s 107us/step - loss: 1.3064 - acc: 0.4662 - val_loss: 1.3887 - val_acc: 0.4405\n",
      "Epoch 30/100\n",
      "7600/7600 [==============================] - 1s 113us/step - loss: 1.3036 - acc: 0.4678 - val_loss: 1.4067 - val_acc: 0.4416\n",
      "Epoch 31/100\n",
      "7600/7600 [==============================] - 1s 120us/step - loss: 1.3060 - acc: 0.4695 - val_loss: 1.3959 - val_acc: 0.4342\n",
      "Epoch 32/100\n",
      "7600/7600 [==============================] - 1s 109us/step - loss: 1.2974 - acc: 0.4721 - val_loss: 1.4028 - val_acc: 0.4368\n",
      "Epoch 33/100\n",
      "7600/7600 [==============================] - 1s 110us/step - loss: 1.2932 - acc: 0.4713 - val_loss: 1.3957 - val_acc: 0.4405\n",
      "Epoch 34/100\n",
      "7600/7600 [==============================] - 1s 122us/step - loss: 1.2895 - acc: 0.4782 - val_loss: 1.4090 - val_acc: 0.4395\n",
      "Epoch 35/100\n",
      "7600/7600 [==============================] - 1s 112us/step - loss: 1.2878 - acc: 0.4787 - val_loss: 1.3883 - val_acc: 0.4468\n",
      "Epoch 36/100\n",
      "7600/7600 [==============================] - 1s 127us/step - loss: 1.2805 - acc: 0.4771 - val_loss: 1.3908 - val_acc: 0.4495\n",
      "Epoch 37/100\n",
      "7600/7600 [==============================] - 1s 130us/step - loss: 1.2820 - acc: 0.4751 - val_loss: 1.3935 - val_acc: 0.4400\n",
      "Epoch 38/100\n",
      "7600/7600 [==============================] - 1s 127us/step - loss: 1.2755 - acc: 0.4799 - val_loss: 1.4140 - val_acc: 0.4274\n",
      "Epoch 39/100\n",
      "7600/7600 [==============================] - 1s 136us/step - loss: 1.2746 - acc: 0.4867 - val_loss: 1.3987 - val_acc: 0.4437\n",
      "Epoch 40/100\n",
      "7600/7600 [==============================] - 1s 134us/step - loss: 1.2707 - acc: 0.4870 - val_loss: 1.3990 - val_acc: 0.4437\n",
      "Epoch 41/100\n",
      "7600/7600 [==============================] - 1s 110us/step - loss: 1.2651 - acc: 0.4849 - val_loss: 1.4067 - val_acc: 0.4479\n",
      "Epoch 42/100\n",
      "7600/7600 [==============================] - 1s 107us/step - loss: 1.2612 - acc: 0.4866 - val_loss: 1.4125 - val_acc: 0.4337\n",
      "Epoch 43/100\n",
      "7600/7600 [==============================] - 1s 115us/step - loss: 1.2517 - acc: 0.4925 - val_loss: 1.4174 - val_acc: 0.4342\n",
      "Epoch 44/100\n",
      "7600/7600 [==============================] - 1s 111us/step - loss: 1.2509 - acc: 0.4900 - val_loss: 1.4043 - val_acc: 0.4395\n",
      "Epoch 45/100\n",
      "7600/7600 [==============================] - 1s 106us/step - loss: 1.2475 - acc: 0.4925 - val_loss: 1.4229 - val_acc: 0.4389\n",
      "Epoch 46/100\n",
      "7600/7600 [==============================] - 1s 107us/step - loss: 1.2425 - acc: 0.4939 - val_loss: 1.4113 - val_acc: 0.4368\n",
      "Epoch 47/100\n",
      "7600/7600 [==============================] - 1s 107us/step - loss: 1.2402 - acc: 0.4909 - val_loss: 1.4195 - val_acc: 0.4368\n",
      "Epoch 48/100\n",
      "7600/7600 [==============================] - 1s 117us/step - loss: 1.2402 - acc: 0.4980 - val_loss: 1.4076 - val_acc: 0.4468\n",
      "Epoch 49/100\n",
      "7600/7600 [==============================] - 1s 121us/step - loss: 1.2379 - acc: 0.4980 - val_loss: 1.4161 - val_acc: 0.4400\n",
      "Epoch 50/100\n",
      "7600/7600 [==============================] - 1s 115us/step - loss: 1.2323 - acc: 0.4954 - val_loss: 1.4064 - val_acc: 0.4468\n",
      "Epoch 51/100\n",
      "7600/7600 [==============================] - 1s 113us/step - loss: 1.2224 - acc: 0.5070 - val_loss: 1.4203 - val_acc: 0.4458\n",
      "Epoch 52/100\n",
      "7600/7600 [==============================] - 1s 123us/step - loss: 1.2242 - acc: 0.5024 - val_loss: 1.4179 - val_acc: 0.4384\n",
      "Epoch 53/100\n",
      "7600/7600 [==============================] - 1s 109us/step - loss: 1.2186 - acc: 0.5057 - val_loss: 1.4294 - val_acc: 0.4400\n",
      "Epoch 54/100\n",
      "7600/7600 [==============================] - 1s 136us/step - loss: 1.2159 - acc: 0.5051 - val_loss: 1.4239 - val_acc: 0.4284\n",
      "Epoch 55/100\n",
      "7600/7600 [==============================] - 1s 119us/step - loss: 1.2163 - acc: 0.5089 - val_loss: 1.4436 - val_acc: 0.4300\n",
      "Epoch 56/100\n",
      "7600/7600 [==============================] - 1s 103us/step - loss: 1.2120 - acc: 0.5112 - val_loss: 1.4172 - val_acc: 0.4426\n",
      "Epoch 57/100\n"
     ]
    },
    {
     "name": "stdout",
     "output_type": "stream",
     "text": [
      "7600/7600 [==============================] - 1s 107us/step - loss: 1.2076 - acc: 0.5120 - val_loss: 1.4167 - val_acc: 0.4442\n",
      "Epoch 00057: early stopping\n"
     ]
    }
   ],
   "source": [
    "es = EarlyStopping(monitor='val_loss', mode='min', verbose=1, patience=30)\n",
    "history = model.fit(x_train, y_train, batch_size=batch_size, epochs=100, verbose=1, callbacks=[es],\n",
    "                    validation_split=0.2)"
   ]
  },
  {
   "cell_type": "code",
   "execution_count": 40,
   "metadata": {
    "scrolled": false
   },
   "outputs": [
    {
     "data": {
      "image/png": "[encoded data removed]",
      "text/plain": [
       "<Figure size 432x288 with 1 Axes>"
      ]
     },
     "metadata": {
      "needs_background": "light"
     },
     "output_type": "display_data"
    },
    {
     "data": {
      "image/png": "[encoded data removed]",
      "text/plain": [
       "<Figure size 432x288 with 1 Axes>"
      ]
     },
     "metadata": {
      "needs_background": "light"
     },
     "output_type": "display_data"
    }
   ],
   "source": [
    "# Plot training & validation accuracy values\n",
    "plt.plot(history.history['acc'])\n",
    "plt.plot(history.history['val_acc'])\n",
    "plt.title('Model accuracy')\n",
    "plt.ylabel('Accuracy')\n",
    "plt.xlabel('Epoch')\n",
    "plt.legend(['Train', 'Test'], loc='upper left')\n",
    "plt.show()\n",
    "\n",
    "# Plot training & validation loss values\n",
    "plt.plot(history.history['loss'])\n",
    "plt.plot(history.history['val_loss'])\n",
    "plt.title('Model loss')\n",
    "plt.ylabel('Loss')\n",
    "plt.xlabel('Epoch')\n",
    "plt.legend(['Train', 'Test'], loc='upper left')\n",
    "plt.show()"
   ]
  },
  {
   "cell_type": "code",
   "execution_count": 41,
   "metadata": {},
   "outputs": [
    {
     "name": "stdout",
     "output_type": "stream",
     "text": [
      "501/501 [==============================] - 0s 66us/step\n",
      "Test accuracy: 0.44510978046886457\n"
     ]
    }
   ],
   "source": [
    "score, acc = model.evaluate(x_test, y_test, batch_size=batch_size, verbose=1)\n",
    "print('Test accuracy:', acc)"
   ]
  },
  {
   "cell_type": "code",
   "execution_count": 96,
   "metadata": {},
   "outputs": [
    {
     "name": "stdout",
     "output_type": "stream",
     "text": [
      "Model saved to disk\n",
      "Model loaded from disk\n",
      "501/501 [==============================] - 0s 205us/step\n",
      "0.44510978046886457\n"
     ]
    }
   ],
   "source": [
    "import pickle \n",
    "\n",
    "filename = 'model_sm.sav'\n",
    "pickle.dump(model, open(filename, 'wb'))\n",
    "print(\"Model saved to disk\") \n",
    "\n",
    "loaded_model = pickle.load(open(filename, 'rb'))\n",
    "print(\"Model loaded from disk\")\n",
    "score, acc = loaded_model.evaluate(x_test, y_test, batch_size=batch_size, verbose=1)\n",
    "print(acc)"
   ]
  },
  {
   "cell_type": "code",
   "execution_count": 44,
   "metadata": {},
   "outputs": [
    {
     "name": "stdout",
     "output_type": "stream",
     "text": [
      "501/501 [==============================] - 0s 181us/step\n",
      "501/501 [==============================] - 0s 37us/step\n"
     ]
    }
   ],
   "source": [
    "predictions = loaded_model.predict(x_test, batch_size=batch_size, verbose=1)\n",
    "pred = loaded_model.predict_classes(x_test, batch_size=batch_size, verbose=1)"
   ]
  },
  {
   "cell_type": "code",
   "execution_count": 45,
   "metadata": {},
   "outputs": [
    {
     "name": "stdout",
     "output_type": "stream",
     "text": [
      "{'emotion': 174, 'energy': 107, 'happy': 17, 'love': 174, 'relaxing': 29}\n"
     ]
    }
   ],
   "source": [
    "labels = encoder.inverse_transform(pred)\n",
    "unique, counts = np.unique(labels, return_counts=True)\n",
    "count_dict = dict(zip(unique, counts))\n",
    "print(count_dict)"
   ]
  },
  {
   "cell_type": "code",
   "execution_count": 49,
   "metadata": {
    "scrolled": false
   },
   "outputs": [],
   "source": [
    "# multi_label = []\n",
    "\n",
    "# for prediction in predictions:\n",
    "#     new_labels = prediction.argsort()[-2:][::-1]\n",
    "#     classes = encoder.inverse_transform(new_labels)\n",
    "#     multi_label.append(classes)\n",
    "\n",
    "# print(len(multi_label), multi_label[0])"
   ]
  },
  {
   "cell_type": "code",
   "execution_count": 50,
   "metadata": {},
   "outputs": [
    {
     "data": {
      "text/html": [
       "<div>\n",
       "<style scoped>\n",
       "    .dataframe tbody tr th:only-of-type {\n",
       "        vertical-align: middle;\n",
       "    }\n",
       "\n",
       "    .dataframe tbody tr th {\n",
       "        vertical-align: top;\n",
       "    }\n",
       "\n",
       "    .dataframe thead th {\n",
       "        text-align: right;\n",
       "    }\n",
       "</style>\n",
       "<table border=\"1\" class=\"dataframe\">\n",
       "  <thead>\n",
       "    <tr style=\"text-align: right;\">\n",
       "      <th></th>\n",
       "      <th>Artist</th>\n",
       "      <th>Song_Name</th>\n",
       "      <th>Lyrics</th>\n",
       "      <th>lyrics_without_stopwords</th>\n",
       "      <th>lyrics_clean</th>\n",
       "    </tr>\n",
       "  </thead>\n",
       "  <tbody>\n",
       "    <tr>\n",
       "      <td>0</td>\n",
       "      <td>The Chainsmokers</td>\n",
       "      <td>Takeaway (with ILLENIUM &amp; Lennon Stella)</td>\n",
       "      <td>Your heart for takeaway, yeah, yeah, yeah, yea...</td>\n",
       "      <td>Your heart takeaway, yeah, yeah, yeah, yeah, y...</td>\n",
       "      <td>your heart takeaway yeah yeah yeah yeah yeah y...</td>\n",
       "    </tr>\n",
       "    <tr>\n",
       "      <td>1</td>\n",
       "      <td>Zonderling</td>\n",
       "      <td>Lifetime</td>\n",
       "      <td>The first time I saw your face I wouldn't trad...</td>\n",
       "      <td>The first time I saw face I trade anything els...</td>\n",
       "      <td>the first time i saw face i trade anything els...</td>\n",
       "    </tr>\n",
       "    <tr>\n",
       "      <td>2</td>\n",
       "      <td>Bruno Martini</td>\n",
       "      <td>Somebody That You Loved</td>\n",
       "      <td>Lying here I pray that you're alone I'm tired ...</td>\n",
       "      <td>Lying I pray alone I'm tired sleeping I wish n...</td>\n",
       "      <td>lying i pray alone im tired sleeping i wish na...</td>\n",
       "    </tr>\n",
       "    <tr>\n",
       "      <td>3</td>\n",
       "      <td>JLV</td>\n",
       "      <td>Never Coming Down</td>\n",
       "      <td>I ain't no superman That don't mean I can't le...</td>\n",
       "      <td>I ain't superman That mean I can't learn fly, ...</td>\n",
       "      <td>i aint superman that mean i cant learn fly no ...</td>\n",
       "    </tr>\n",
       "    <tr>\n",
       "      <td>4</td>\n",
       "      <td>Paige</td>\n",
       "      <td>Always On Your Mind</td>\n",
       "      <td>Life is like the waves Out in the ocean Someti...</td>\n",
       "      <td>Life like waves Out ocean Sometimes, things cr...</td>\n",
       "      <td>life like waves out ocean sometimes things cra...</td>\n",
       "    </tr>\n",
       "  </tbody>\n",
       "</table>\n",
       "</div>"
      ],
      "text/plain": [
       "             Artist                                 Song_Name  \\\n",
       "0  The Chainsmokers  Takeaway (with ILLENIUM & Lennon Stella)   \n",
       "1        Zonderling                                  Lifetime   \n",
       "2     Bruno Martini                   Somebody That You Loved   \n",
       "3               JLV                         Never Coming Down   \n",
       "4             Paige                       Always On Your Mind   \n",
       "\n",
       "                                              Lyrics  \\\n",
       "0  Your heart for takeaway, yeah, yeah, yeah, yea...   \n",
       "1  The first time I saw your face I wouldn't trad...   \n",
       "2  Lying here I pray that you're alone I'm tired ...   \n",
       "3  I ain't no superman That don't mean I can't le...   \n",
       "4  Life is like the waves Out in the ocean Someti...   \n",
       "\n",
       "                            lyrics_without_stopwords  \\\n",
       "0  Your heart takeaway, yeah, yeah, yeah, yeah, y...   \n",
       "1  The first time I saw face I trade anything els...   \n",
       "2  Lying I pray alone I'm tired sleeping I wish n...   \n",
       "3  I ain't superman That mean I can't learn fly, ...   \n",
       "4  Life like waves Out ocean Sometimes, things cr...   \n",
       "\n",
       "                                        lyrics_clean  \n",
       "0  your heart takeaway yeah yeah yeah yeah yeah y...  \n",
       "1  the first time i saw face i trade anything els...  \n",
       "2  lying i pray alone im tired sleeping i wish na...  \n",
       "3  i aint superman that mean i cant learn fly no ...  \n",
       "4  life like waves out ocean sometimes things cra...  "
      ]
     },
     "execution_count": 50,
     "metadata": {},
     "output_type": "execute_result"
    }
   ],
   "source": [
    "test_data = pd.read_csv('Test lyrics.csv')\n",
    "test_data.columns = [c.replace(' ', '_') for c in test_data.columns]\n",
    "test_data.head()"
   ]
  },
  {
   "cell_type": "code",
   "execution_count": 51,
   "metadata": {},
   "outputs": [
    {
     "name": "stderr",
     "output_type": "stream",
     "text": [
      "/usr/lib/python3/dist-packages/ipykernel_launcher.py:5: DeprecationWarning: Call to deprecated `__getitem__` (Method will be removed in 4.0.0, use self.wv.__getitem__() instead).\n",
      "  \"\"\"\n"
     ]
    },
    {
     "data": {
      "text/plain": [
       "(66, 50)"
      ]
     },
     "execution_count": 51,
     "metadata": {},
     "output_type": "execute_result"
    }
   ],
   "source": [
    "users_lyrics = test_data.lyrics_clean\n",
    "test_lyrics = [sentence_vectorizer2(sentence) for sentence in users_lyrics]\n",
    "test_lyrics = np.matrix(test_lyrics)\n",
    "test_lyrics.shape"
   ]
  },
  {
   "cell_type": "code",
   "execution_count": 53,
   "metadata": {},
   "outputs": [
    {
     "name": "stdout",
     "output_type": "stream",
     "text": [
      "66/66 [==============================] - 0s 107us/step\n",
      "66/66 [==============================] - 0s 108us/step\n"
     ]
    }
   ],
   "source": [
    "predictions_user = loaded_model.predict(test_lyrics, batch_size=batch_size, verbose=1)\n",
    "pred_user = loaded_model.predict_classes(test_lyrics, batch_size=batch_size, verbose=1)"
   ]
  },
  {
   "cell_type": "code",
   "execution_count": 57,
   "metadata": {},
   "outputs": [
    {
     "name": "stdout",
     "output_type": "stream",
     "text": [
      "{'emotion': 19, 'energy': 9, 'happy': 3, 'love': 33, 'relaxing': 2}\n"
     ]
    }
   ],
   "source": [
    "labels_user = encoder.inverse_transform(pred_user)\n",
    "unique, counts = np.unique(labels_user, return_counts=True)\n",
    "count_dict = dict(zip(unique, counts))\n",
    "print(count_dict)"
   ]
  },
  {
   "cell_type": "code",
   "execution_count": 240,
   "metadata": {},
   "outputs": [
    {
     "name": "stdout",
     "output_type": "stream",
     "text": [
      "66 ['grunge' 'sad'] ['sad' 'emotional']\n"
     ]
    }
   ],
   "source": [
    "# multi_label = []\n",
    "\n",
    "# for prediction in predictions:\n",
    "#     new_labels = prediction.argsort()[-2:][::-1]\n",
    "#     classes = encoder.inverse_transform(new_labels)\n",
    "#     multi_label.append(classes)\n",
    "\n",
    "# print(len(multi_label), multi_label[0], multi_label[6])"
   ]
  },
  {
   "cell_type": "code",
   "execution_count": 58,
   "metadata": {},
   "outputs": [],
   "source": [
    "column_names = ['Artist','Song_Name', 'Labels']\n",
    "df = pd.DataFrame(list(zip(test_data.Artist, test_data.Song_Name, labels_user)), columns=column_names)"
   ]
  },
  {
   "cell_type": "code",
   "execution_count": 59,
   "metadata": {},
   "outputs": [
    {
     "data": {
      "text/html": [
       "<div>\n",
       "<style scoped>\n",
       "    .dataframe tbody tr th:only-of-type {\n",
       "        vertical-align: middle;\n",
       "    }\n",
       "\n",
       "    .dataframe tbody tr th {\n",
       "        vertical-align: top;\n",
       "    }\n",
       "\n",
       "    .dataframe thead th {\n",
       "        text-align: right;\n",
       "    }\n",
       "</style>\n",
       "<table border=\"1\" class=\"dataframe\">\n",
       "  <thead>\n",
       "    <tr style=\"text-align: right;\">\n",
       "      <th></th>\n",
       "      <th>Artist</th>\n",
       "      <th>Song_Name</th>\n",
       "      <th>Labels</th>\n",
       "    </tr>\n",
       "  </thead>\n",
       "  <tbody>\n",
       "    <tr>\n",
       "      <td>0</td>\n",
       "      <td>The Chainsmokers</td>\n",
       "      <td>Takeaway (with ILLENIUM &amp; Lennon Stella)</td>\n",
       "      <td>energy</td>\n",
       "    </tr>\n",
       "    <tr>\n",
       "      <td>1</td>\n",
       "      <td>Zonderling</td>\n",
       "      <td>Lifetime</td>\n",
       "      <td>emotion</td>\n",
       "    </tr>\n",
       "    <tr>\n",
       "      <td>2</td>\n",
       "      <td>Bruno Martini</td>\n",
       "      <td>Somebody That You Loved</td>\n",
       "      <td>love</td>\n",
       "    </tr>\n",
       "    <tr>\n",
       "      <td>3</td>\n",
       "      <td>JLV</td>\n",
       "      <td>Never Coming Down</td>\n",
       "      <td>happy</td>\n",
       "    </tr>\n",
       "    <tr>\n",
       "      <td>4</td>\n",
       "      <td>Paige</td>\n",
       "      <td>Always On Your Mind</td>\n",
       "      <td>emotion</td>\n",
       "    </tr>\n",
       "    <tr>\n",
       "      <td>5</td>\n",
       "      <td>ILLENIUM</td>\n",
       "      <td>In Your Arms (with X Ambassadors)</td>\n",
       "      <td>emotion</td>\n",
       "    </tr>\n",
       "    <tr>\n",
       "      <td>6</td>\n",
       "      <td>Young Bombs</td>\n",
       "      <td>Loyal</td>\n",
       "      <td>emotion</td>\n",
       "    </tr>\n",
       "    <tr>\n",
       "      <td>7</td>\n",
       "      <td>Gryffin</td>\n",
       "      <td>Body Back (feat. Maia Wright) - Deniz Koyu Remix</td>\n",
       "      <td>love</td>\n",
       "    </tr>\n",
       "    <tr>\n",
       "      <td>8</td>\n",
       "      <td>Marshmello</td>\n",
       "      <td>Proud</td>\n",
       "      <td>love</td>\n",
       "    </tr>\n",
       "    <tr>\n",
       "      <td>9</td>\n",
       "      <td>ILLENIUM</td>\n",
       "      <td>Crashing (feat. Bahari)</td>\n",
       "      <td>love</td>\n",
       "    </tr>\n",
       "  </tbody>\n",
       "</table>\n",
       "</div>"
      ],
      "text/plain": [
       "             Artist                                         Song_Name   Labels\n",
       "0  The Chainsmokers          Takeaway (with ILLENIUM & Lennon Stella)   energy\n",
       "1        Zonderling                                          Lifetime  emotion\n",
       "2     Bruno Martini                           Somebody That You Loved     love\n",
       "3               JLV                                 Never Coming Down    happy\n",
       "4             Paige                               Always On Your Mind  emotion\n",
       "5          ILLENIUM                 In Your Arms (with X Ambassadors)  emotion\n",
       "6       Young Bombs                                             Loyal  emotion\n",
       "7           Gryffin  Body Back (feat. Maia Wright) - Deniz Koyu Remix     love\n",
       "8        Marshmello                                             Proud     love\n",
       "9          ILLENIUM                           Crashing (feat. Bahari)     love"
      ]
     },
     "execution_count": 59,
     "metadata": {},
     "output_type": "execute_result"
    }
   ],
   "source": [
    "df.head(10)"
   ]
  },
  {
   "cell_type": "code",
   "execution_count": 100,
   "metadata": {},
   "outputs": [],
   "source": [
    "filename = 'encoder.sav'\n",
    "pickle.dump(encoder, open(filename, 'wb'))"
   ]
  },
  {
   "cell_type": "markdown",
   "metadata": {},
   "source": [
    "### Match closest label to input from Google Vision API"
   ]
  },
  {
   "cell_type": "code",
   "execution_count": 99,
   "metadata": {},
   "outputs": [],
   "source": [
    "import gensim\n",
    "\n",
    "w2v_API = gensim.models.KeyedVectors.load_word2vec_format(\"GoogleNews-vectors-negative300.bin.gz\", binary=True, limit=50000)\n",
    "w2v_API.init_sims(replace=True)"
   ]
  },
  {
   "cell_type": "code",
   "execution_count": 104,
   "metadata": {},
   "outputs": [],
   "source": [
    "filename = 'w2v_API.sav'\n",
    "pickle.dump(w2v_API, open(filename, 'wb'))"
   ]
  },
  {
   "cell_type": "code",
   "execution_count": 68,
   "metadata": {},
   "outputs": [
    {
     "data": {
      "text/plain": [
       "(300,)"
      ]
     },
     "execution_count": 68,
     "metadata": {},
     "output_type": "execute_result"
    }
   ],
   "source": [
    "listofwords = ['river', 'stream', 'water', 'flowing']\n",
    "api_word = np.mean([w2v_API[word] for word in listofwords], axis=0)\n",
    "api_word.shape"
   ]
  },
  {
   "cell_type": "code",
   "execution_count": 89,
   "metadata": {},
   "outputs": [],
   "source": [
    "api_classes = w2v_API.distances(api_word, other_words=('love', 'happy', 'energy', 'emotion', 'relaxing'))"
   ]
  },
  {
   "cell_type": "code",
   "execution_count": 91,
   "metadata": {},
   "outputs": [],
   "source": [
    "tags = ['love', 'happy', 'energy', 'emotion', 'relaxing']\n",
    "index = np.argmax(api_classes)"
   ]
  },
  {
   "cell_type": "code",
   "execution_count": 93,
   "metadata": {},
   "outputs": [
    {
     "data": {
      "text/plain": [
       "'happy'"
      ]
     },
     "execution_count": 93,
     "metadata": {},
     "output_type": "execute_result"
    }
   ],
   "source": [
    "api_label = tags[index]\n",
    "api_label"
   ]
  },
  {
   "cell_type": "code",
   "execution_count": 101,
   "metadata": {},
   "outputs": [],
   "source": [
    "output_songs = df[df['Labels'] == 'happy']"
   ]
  },
  {
   "cell_type": "code",
   "execution_count": 103,
   "metadata": {},
   "outputs": [
    {
     "data": {
      "text/html": [
       "<div>\n",
       "<style scoped>\n",
       "    .dataframe tbody tr th:only-of-type {\n",
       "        vertical-align: middle;\n",
       "    }\n",
       "\n",
       "    .dataframe tbody tr th {\n",
       "        vertical-align: top;\n",
       "    }\n",
       "\n",
       "    .dataframe thead th {\n",
       "        text-align: right;\n",
       "    }\n",
       "</style>\n",
       "<table border=\"1\" class=\"dataframe\">\n",
       "  <thead>\n",
       "    <tr style=\"text-align: right;\">\n",
       "      <th></th>\n",
       "      <th>Artist</th>\n",
       "      <th>Song_Name</th>\n",
       "      <th>Labels</th>\n",
       "    </tr>\n",
       "  </thead>\n",
       "  <tbody>\n",
       "    <tr>\n",
       "      <td>3</td>\n",
       "      <td>JLV</td>\n",
       "      <td>Never Coming Down</td>\n",
       "      <td>happy</td>\n",
       "    </tr>\n",
       "    <tr>\n",
       "      <td>17</td>\n",
       "      <td>West Coast Massive</td>\n",
       "      <td>Great Escape</td>\n",
       "      <td>happy</td>\n",
       "    </tr>\n",
       "  </tbody>\n",
       "</table>\n",
       "</div>"
      ],
      "text/plain": [
       "                Artist          Song_Name Labels\n",
       "3                  JLV  Never Coming Down  happy\n",
       "17  West Coast Massive       Great Escape  happy"
      ]
     },
     "execution_count": 103,
     "metadata": {},
     "output_type": "execute_result"
    }
   ],
   "source": [
    "output_songs[:2]"
   ]
  },
  {
   "cell_type": "markdown",
   "metadata": {},
   "source": [
    "##  Word2Vec + CNN"
   ]
  },
  {
   "cell_type": "code",
   "execution_count": null,
   "metadata": {},
   "outputs": [],
   "source": [
    "embeddings_index = {}\n",
    "for w in w2v_model.wv.vocab.keys():\n",
    "    embeddings_index[w] = w2v_model.wv[w]\n",
    "\n",
    "print(\"Found %s word vectors.\" %len(embeddings_index))"
   ]
  },
  {
   "cell_type": "code",
   "execution_count": null,
   "metadata": {},
   "outputs": [],
   "source": [
    "from sklearn.model_selection import train_test_split\n",
    "\n",
    "X = df.lyrics_clean\n",
    "y = df.tag\n",
    "SEED = 1000\n",
    "x_train, x_validation_and_test, y_train, y_validation_and_test = train_test_split(X, y, test_size=.1, random_state=SEED)\n",
    "x_validation, x_test, y_validation, y_test = train_test_split(x_validation_and_test, y_validation_and_test, test_size=.5, random_state=SEED)"
   ]
  },
  {
   "cell_type": "code",
   "execution_count": null,
   "metadata": {},
   "outputs": [],
   "source": [
    "print('Training set has %s entries' %len(x_train))\n",
    "print('Validation set has %s entries' %len(x_validation))\n",
    "print('Test set has %s entries' %len(x_test))"
   ]
  },
  {
   "cell_type": "code",
   "execution_count": null,
   "metadata": {},
   "outputs": [],
   "source": [
    "from keras.preprocessing.text import Tokenizer\n",
    "from keras.preprocessing.sequence import pad_sequences\n",
    "\n",
    "tokenizer = Tokenizer(num_words=10000)\n",
    "tokenizer.fit_on_texts(x_train)\n",
    "sequences = tokenizer.texts_to_sequences(x_train)"
   ]
  },
  {
   "cell_type": "code",
   "execution_count": null,
   "metadata": {},
   "outputs": [],
   "source": [
    "print(len(tokenizer.word_index))"
   ]
  },
  {
   "cell_type": "code",
   "execution_count": null,
   "metadata": {},
   "outputs": [],
   "source": [
    "length = []\n",
    "for x in x_train:\n",
    "    length.append(len(x.split()))\n",
    "    \n",
    "print(max(length))"
   ]
  },
  {
   "cell_type": "code",
   "execution_count": null,
   "metadata": {},
   "outputs": [],
   "source": [
    "x_train_seq = pad_sequences(sequences, maxlen=860)\n",
    "print('Shape of data:', x_train_seq.shape)"
   ]
  },
  {
   "cell_type": "code",
   "execution_count": null,
   "metadata": {
    "scrolled": true
   },
   "outputs": [],
   "source": [
    "sequences_val = tokenizer.texts_to_sequences(x_validation)\n",
    "x_val_seq = pad_sequences(sequences_val, maxlen=860)"
   ]
  },
  {
   "cell_type": "code",
   "execution_count": null,
   "metadata": {},
   "outputs": [],
   "source": [
    "num_words = 10000\n",
    "embedding_matrix = np.zeros((num_words, 100))\n",
    "for word, i in tokenizer.word_index.items():\n",
    "    if i >= num_words:\n",
    "        continue\n",
    "    embedding_vector = embeddings_index.get(word)\n",
    "    if embedding_vector is not None:\n",
    "        embedding_matrix[i] = embedding_vector"
   ]
  },
  {
   "cell_type": "code",
   "execution_count": null,
   "metadata": {},
   "outputs": [],
   "source": [
    "np.array_equal(embedding_matrix[183] ,embeddings_index.get('wait'))"
   ]
  },
  {
   "cell_type": "code",
   "execution_count": null,
   "metadata": {},
   "outputs": [],
   "source": [
    "train_tags = y_train\n",
    "val_tags = y_validation\n",
    "test_tags = y_test"
   ]
  },
  {
   "cell_type": "code",
   "execution_count": null,
   "metadata": {},
   "outputs": [],
   "source": [
    "encoder = LabelEncoder()\n",
    "encoder.fit(train_tags)\n",
    "y_train = encoder.transform(train_tags)\n",
    "y_validation = encoder.transform(val_tags)\n",
    "y_test = encoder.transform(test_tags)"
   ]
  },
  {
   "cell_type": "code",
   "execution_count": null,
   "metadata": {},
   "outputs": [],
   "source": [
    "model_ptw2v = Sequential()\n",
    "e = Embedding(10000, 100, weights=[embedding_matrix], input_length=860, trainable=False)\n",
    "model_ptw2v.add(e)\n",
    "model_ptw2v.add(Flatten())\n",
    "model_ptw2v.add(Dense(64, activation='relu'))\n",
    "model.add(Dense((num_classes), activation='softmax'))\n",
    "\n",
    "model_ptw2v.compile(loss='sparse_categorical_crossentropy', optimizer='adam', metrics=['accuracy'])\n",
    "model_ptw2v.summary()"
   ]
  },
  {
   "cell_type": "code",
   "execution_count": null,
   "metadata": {},
   "outputs": [],
   "source": [
    "history = model_ptw2v.fit(x_train_seq, y_train, validation_data=(x_val_seq, y_validation), epochs=5, batch_size=32, verbose=1)"
   ]
  },
  {
   "cell_type": "code",
   "execution_count": null,
   "metadata": {},
   "outputs": [],
   "source": []
  }
 ],
 "metadata": {
  "kernelspec": {
   "display_name": "Python 3",
   "language": "python",
   "name": "python3"
  },
  "language_info": {
   "codemirror_mode": {
    "name": "ipython",
    "version": 3
   },
   "file_extension": ".py",
   "mimetype": "text/x-python",
   "name": "python",
   "nbconvert_exporter": "python",
   "pygments_lexer": "ipython3",
   "version": "3.7.3"
  }
 },
 "nbformat": 4,
 "nbformat_minor": 2
}
